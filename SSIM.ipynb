{
 "cells": [
  {
   "cell_type": "code",
   "execution_count": 1,
   "id": "89433d44",
   "metadata": {},
   "outputs": [
    {
     "data": {
      "image/png": "[encoded data removed]",
      "text/plain": [
       "<Figure size 720x288 with 3 Axes>"
      ]
     },
     "metadata": {
      "needs_background": "light"
     },
     "output_type": "display_data"
    }
   ],
   "source": [
    "import cv2\n",
    "import numpy as np\n",
    "import matplotlib.pyplot as plt\n",
    "\n",
    "from skimage import data, img_as_float\n",
    "from skimage.metrics import structural_similarity as ssim\n",
    "from skimage.metrics import mean_squared_error\n",
    "\n",
    "\n",
    "img = cv2.imread('3D_0s.tif',cv2.IMREAD_GRAYSCALE);\n",
    "img_noise = cv2.imread('3D_0s.tif',cv2.IMREAD_GRAYSCALE);\n",
    "img_const = cv2.imread('3D_04s.tif',cv2.IMREAD_GRAYSCALE);\n",
    "\n",
    "#img = ~img\n",
    "rows, cols = img.shape\n",
    "\n",
    "#noise = np.ones_like(img) * 0.2 * (img.max() - img.min())\n",
    "#rng = np.random.default_rng()\n",
    "#noise[rng.random(size=noise.shape) > 0.5] *= -1\n",
    "\n",
    "\n",
    "\n",
    "fig, axes = plt.subplots(nrows=1, ncols=3, figsize=(10, 4),\n",
    "                         sharex=True, sharey=True)\n",
    "ax = axes.ravel()\n",
    "\n",
    "mse_none = mean_squared_error(img, img)\n",
    "ssim_none = ssim(img, img, data_range=img.max() - img.min())\n",
    "\n",
    "mse_noise = mean_squared_error(img, img_noise)\n",
    "ssim_noise = ssim(img, img_noise,\n",
    "                  data_range=img_noise.max() - img_noise.min())\n",
    "\n",
    "mse_const = mean_squared_error(img, img_const)\n",
    "ssim_const = ssim(img, img_const,\n",
    "                  data_range=img_const.max() - img_const.min())\n",
    "\n",
    "label = 'MSE: {:.2f}, SSIM: {:.2f}'\n",
    "\n",
    "ax[0].imshow(img, cmap=plt.cm.gray, vmin=0, vmax=1)\n",
    "ax[0].set_xlabel(label.format(mse_none, ssim_none))\n",
    "ax[0].set_title('Original image')\n",
    "\n",
    "ax[1].imshow(img_noise, cmap=plt.cm.gray, vmin=0, vmax=1)\n",
    "ax[1].set_xlabel(label.format(mse_noise, ssim_noise))\n",
    "ax[1].set_title('Image 2 compared to original')\n",
    "\n",
    "ax[2].imshow(img_const, cmap=plt.cm.gray, vmin=0, vmax=1)\n",
    "ax[2].set_xlabel(label.format(mse_const, ssim_const))\n",
    "ax[2].set_title('Image 3 compared to original')\n",
    "\n",
    "plt.tight_layout()\n",
    "plt.show()"
   ]
  },
  {
   "cell_type": "code",
   "execution_count": null,
   "id": "51f6c65a",
   "metadata": {},
   "outputs": [],
   "source": [
    "# 2D MSE: 8207 0.81, 0_4s at 0_8s MSE 20398.23 SSIM 0.62\n",
    "# 3D MSE: 5644.88 SSIM 0.85 at 0_8s, 1893.67 SSIM 0.92"
   ]
  },
  {
   "cell_type": "code",
   "execution_count": null,
   "id": "0db1f2a4",
   "metadata": {},
   "outputs": [],
   "source": []
  }
 ],
 "metadata": {
  "kernelspec": {
   "display_name": "Python 3",
   "language": "python",
   "name": "python3"
  },
  "language_info": {
   "codemirror_mode": {
    "name": "ipython",
    "version": 3
   },
   "file_extension": ".py",
   "mimetype": "text/x-python",
   "name": "python",
   "nbconvert_exporter": "python",
   "pygments_lexer": "ipython3",
   "version": "3.8.10"
  }
 },
 "nbformat": 4,
 "nbformat_minor": 5
}
